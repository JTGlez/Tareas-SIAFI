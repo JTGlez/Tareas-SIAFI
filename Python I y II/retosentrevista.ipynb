{
 "cells": [
  {
   "cell_type": "markdown",
   "metadata": {},
   "source": [
    "# Problema 1\n",
    "\n",
    "En los números reales, se tienen números enteros positivos, enteros negativos y 0 como referencia, con lo cual,  del arreglo de números que se muestra a continuación, se debe calcular las proporciones antes mencionadas (positivos, negativos y ceros). La salida debe ser en decimal y deben estar ordenados de la mayor a menor proporción. \n",
    "\n",
    "+ Entrada = [7, -10, 0, 1, 0, -9,  8, -6, 5]\n",
    "+ Salida =  Positivos: 4/9, Negativos: 3/9, Ceros: 2/9, \n"
   ]
  },
  {
   "cell_type": "code",
   "execution_count": 14,
   "metadata": {},
   "outputs": [
    {
     "name": "stdout",
     "output_type": "stream",
     "text": [
      "[7, 1, 8, 5]\n",
      "[-10, -9, -6]\n",
      "2\n",
      "Positivos: 4/9 Negativos: 1/3 Ceros: 2/9\n"
     ]
    }
   ],
   "source": [
    "import fractions\n",
    "entrada =  [7, -10, 0, 1, 0, -9,  8, -6, 5]\n",
    "\n",
    "positivos = [x for x in entrada if x > 0]\n",
    "print(positivos)\n",
    "negativos = [x for x in entrada if x < 0]\n",
    "print(negativos)\n",
    "ceros = entrada.count(0)\n",
    "print(ceros)\n",
    "\n",
    "positivos = len(positivos)\n",
    "negativos = len(negativos)\n",
    "\n",
    "print(\"Positivos:\", fractions.Fraction(positivos, 9), \"Negativos:\", fractions.Fraction(negativos, 9), \n",
    "    \"Ceros:\", fractions.Fraction(ceros, 9))    "
   ]
  },
  {
   "cell_type": "markdown",
   "metadata": {},
   "source": [
    "# Problema 2\n",
    "\n",
    "Tienes una lista de tuplas, de la forma (nombre, calificación), donde el nombre corresponde al nombre de un alumno y calificación corresponde a su calificación. Encuentra la forma de ordenar dicha lista a través de la calificación de cada alumno, de tal forma que obtengas el alumno con la segunda calificación más alta. \n",
    "\n",
    "En dado caso de que la segunda calificación más alta exista para 2 o más alumnos, ordena a los alumnos con la segunda calificación más alta en orden alfabético a través de sus nombres y solo obten el primero que resulte de este ordenamiento.\n",
    "\n",
    "+ Entrada = [(\"pedro\",9),(\"paco\",10),(\"alex\",9),(\"yair\",10),(\"karina\",8),(\"mau\",7)]\n",
    "+ Salida = \"alex\""
   ]
  },
  {
   "cell_type": "code",
   "execution_count": 20,
   "metadata": {},
   "outputs": [
    {
     "name": "stdout",
     "output_type": "stream",
     "text": [
      "[('mau', 7), ('karina', 8), ('pedro', 9), ('alex', 9), ('paco', 10), ('yair', 10)]\n",
      "['pedro', 'alex']\n",
      "['alex', 'pedro']\n",
      "El segundo mejor es: alex\n"
     ]
    }
   ],
   "source": [
    "entrada = [(\"pedro\",9),(\"paco\",10),(\"alex\",9),(\"yair\",10),(\"karina\",8),(\"mau\",7)]\n",
    "\n",
    "entrada = sorted(entrada, key = lambda x: x[1])\n",
    "print(entrada)\n",
    "\n",
    "segundos = [x[0] for x in entrada if x[1] == 9]\n",
    "print(segundos)\n",
    "segundos.sort()\n",
    "print(segundos)\n",
    "salida = segundos.pop(0)\n",
    "print(\"El segundo mejor es:\", salida)"
   ]
  },
  {
   "cell_type": "markdown",
   "metadata": {},
   "source": [
    "# Problema 3\n",
    "\n",
    "Un número complejo z está determinado completamente por su parte real x y su parte imaginaria y: z = x + iy. Esta representación se conoce como la de coordenadas cartesianas. Sin embargo, otra manera de representar a un número complejo es utilizar coordenadas polares. \n",
    "\n",
    "En ese caso, el número complejo queda determinado por la norma de su radio y el ángulo de fase. Define una función que permita cambiar de la representación de coordenadas cartesianas a la de coordenadas polares de cualquier número complejo."
   ]
  },
  {
   "cell_type": "code",
   "execution_count": 24,
   "metadata": {},
   "outputs": [
    {
     "name": "stdout",
     "output_type": "stream",
     "text": [
      "r: 2.23606797749979 theta: 1.1071487177940904\n"
     ]
    }
   ],
   "source": [
    "import math \n",
    "\n",
    "def cartesianas_a_polares(a, b): #a+bi\n",
    "    r = (a**2 + b**2)**0.5\n",
    "    theta = math.atan(b/a)\n",
    "    return r, theta\n",
    "\n",
    "r, theta = cartesianas_a_polares(1, 2) #1+2j\n",
    "print(\"r:\", r, \"theta:\", theta) #theta en radianes."
   ]
  }
 ],
 "metadata": {
  "interpreter": {
   "hash": "2be5faf79681da6f2a61fdfdd5405d65d042280f7fba6178067603e3a2925119"
  },
  "kernelspec": {
   "display_name": "Python 3.10.2 64-bit",
   "language": "python",
   "name": "python3"
  },
  "language_info": {
   "codemirror_mode": {
    "name": "ipython",
    "version": 3
   },
   "file_extension": ".py",
   "mimetype": "text/x-python",
   "name": "python",
   "nbconvert_exporter": "python",
   "pygments_lexer": "ipython3",
   "version": "3.10.2"
  },
  "orig_nbformat": 4
 },
 "nbformat": 4,
 "nbformat_minor": 2
}

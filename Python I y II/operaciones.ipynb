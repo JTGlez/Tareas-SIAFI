{
 "cells": [
  {
   "cell_type": "markdown",
   "metadata": {},
   "source": [
    "# Ejercicio 1\n",
    "\n",
    "Pedir al usuario dos números y sumarlos."
   ]
  },
  {
   "cell_type": "code",
   "execution_count": 1,
   "metadata": {},
   "outputs": [
    {
     "name": "stdout",
     "output_type": "stream",
     "text": [
      "Suma: 3.0\n"
     ]
    }
   ],
   "source": [
    "x = float(input(\"Escribe un número\"))\n",
    "y = float(input(\"Escribe otro número\"))\n",
    "print(\"Suma:\",  x+y)"
   ]
  },
  {
   "cell_type": "markdown",
   "metadata": {},
   "source": [
    "# Ejercicio 2\n",
    "\n",
    "Pedir al usuario dos números y restarlos."
   ]
  },
  {
   "cell_type": "code",
   "execution_count": 3,
   "metadata": {},
   "outputs": [
    {
     "name": "stdout",
     "output_type": "stream",
     "text": [
      "Resta: -1.0\n"
     ]
    }
   ],
   "source": [
    "x = float(input(\"Escribe un número\"))\n",
    "y = float(input(\"Escribe otro número\"))\n",
    "print(\"Resta:\",  x-y)"
   ]
  },
  {
   "cell_type": "markdown",
   "metadata": {},
   "source": [
    "# Ejercicio 3\n",
    "\n",
    "Pedir al usuario dos cadenas y concatenarlas."
   ]
  },
  {
   "cell_type": "code",
   "execution_count": 4,
   "metadata": {},
   "outputs": [
    {
     "name": "stdout",
     "output_type": "stream",
     "text": [
      "HolaMundo\n"
     ]
    }
   ],
   "source": [
    "c1 = input(\"Escribe una cadena\")\n",
    "c2 = input(\"Escribe otra cadena\")\n",
    "print(c1+c2)"
   ]
  },
  {
   "cell_type": "markdown",
   "metadata": {},
   "source": [
    "# Ejercicio 4\n",
    "\n",
    "Pedir al usuario una cadena y repetirla 5 veces."
   ]
  },
  {
   "cell_type": "code",
   "execution_count": 5,
   "metadata": {},
   "outputs": [
    {
     "name": "stdout",
     "output_type": "stream",
     "text": [
      "HolaHolaHolaHolaHola\n"
     ]
    }
   ],
   "source": [
    "c1 = input(\"Escribe una cadena: \")\n",
    "print(c1*5)"
   ]
  },
  {
   "cell_type": "markdown",
   "metadata": {},
   "source": [
    "# Ejercicio 5\n",
    "\n",
    "Pedir al usuario un número y mostrar si es múltiplo de dos (sin condiciones)."
   ]
  },
  {
   "cell_type": "code",
   "execution_count": 14,
   "metadata": {},
   "outputs": [
    {
     "name": "stdout",
     "output_type": "stream",
     "text": [
      " No es múltiplo\n"
     ]
    }
   ],
   "source": [
    "c1 = int(input(\"Escribe un número entero: \"))\n",
    "print(\"Si es múltiplo\" * (c1%2 == 0), \"No es múltiplo\" * (c1%2 != 0)) #Si c1%2 == 0 devuelve True que evalúa a 1, se imprime si es múltiplo."
   ]
  },
  {
   "cell_type": "markdown",
   "metadata": {},
   "source": [
    "# Ejercicio 6\n",
    "\n",
    "Pedir al usuario dos números y mostrar si son iguales.\n"
   ]
  },
  {
   "cell_type": "code",
   "execution_count": 21,
   "metadata": {},
   "outputs": [
    {
     "name": "stdout",
     "output_type": "stream",
     "text": [
      " No son iguales\n"
     ]
    }
   ],
   "source": [
    "x = float(input(\"Escribe un número\"))\n",
    "y = float(input(\"Escribe otro número\"))\n",
    "print(\"Son iguales\" * (x == y), \"No son iguales\" * (x != y))"
   ]
  },
  {
   "cell_type": "markdown",
   "metadata": {},
   "source": [
    "# Ejercicio 7\n",
    "\n",
    "Pedir al usuario dos números y mostrar si la raiz del primero es mayor a la raiz del segundo."
   ]
  },
  {
   "cell_type": "code",
   "execution_count": 27,
   "metadata": {},
   "outputs": [
    {
     "name": "stdout",
     "output_type": "stream",
     "text": [
      " La raíz del segundo número es mayor\n"
     ]
    }
   ],
   "source": [
    "x = float(input(\"Escribe un número\"))\n",
    "y = float(input(\"Escribe otro número\"))\n",
    "\n",
    "print(\"La raiz del primer número es mayor\" * (x**2 > y**2), \"La raíz del segundo número es mayor\" * (x**2 < y**2))"
   ]
  },
  {
   "cell_type": "markdown",
   "metadata": {},
   "source": [
    "# Ejercicio 8\n",
    "\n",
    "Pedir al usuario dos números a y b, y mediante pitagoras encontrar una c que sea la raiz de la suma de a y de b al cuadrado."
   ]
  },
  {
   "cell_type": "code",
   "execution_count": 35,
   "metadata": {},
   "outputs": [
    {
     "name": "stdout",
     "output_type": "stream",
     "text": [
      "3.605551275463989\n",
      "3.605551275463989\n"
     ]
    }
   ],
   "source": [
    "def pitagoras(a, b):\n",
    "    return (a**2 + b**2)**(1/2)\n",
    "\n",
    "a = float(input(\"Escribe un número\"))\n",
    "b = float(input(\"Escribe otro número\"))\n",
    "c = pitagoras(a, b)\n",
    "print(c)\n",
    "\n",
    "#Con función lambda anónima\n",
    "d = (lambda a, b: (a**2 + b**2)**(1/2))(a,b)\n",
    "print(d)"
   ]
  },
  {
   "cell_type": "markdown",
   "metadata": {},
   "source": [
    "# Ejercicio 9\n",
    "\n",
    "Pedir al usuario dos números y mostrar si el cubo del primer número y el cubo del segundo número es mayor a 0."
   ]
  },
  {
   "cell_type": "code",
   "execution_count": 47,
   "metadata": {},
   "outputs": [
    {
     "name": "stdout",
     "output_type": "stream",
     "text": [
      "El cubo del primer número y el cubo del segundo número si es mayor a cero \n"
     ]
    }
   ],
   "source": [
    "a = float(input(\"Escribe un número\"))\n",
    "b = float(input(\"Escribe otro número\"))\n",
    "\n",
    "print(\"El cubo del primer número y el cubo del segundo número si es mayor a cero\" * (a**3 > 0 and b**3 > 0), \n",
    "      \"Un número introducido tiene un cubo menor o igual a 0\" * (a**3 <= 0 or b**3 <=0))"
   ]
  },
  {
   "cell_type": "markdown",
   "metadata": {},
   "source": [
    "# Ejercicio 10\n",
    "\n",
    "Pedir al usuario 3 números a, b y c, y usando la formula general encontrar las raices de un polinomio de tipo ax^2+bx+c=0."
   ]
  },
  {
   "cell_type": "code",
   "execution_count": 53,
   "metadata": {},
   "outputs": [
    {
     "name": "stdout",
     "output_type": "stream",
     "text": [
      "Raíz 1: 1.0 Raíz 2: -1.0\n"
     ]
    }
   ],
   "source": [
    "a = float(input(\"Escribe un número: \"))\n",
    "b = float(input(\"Escribe otro número: \"))\n",
    "c = float(input(\"Escribe un número más: \"))\n",
    "\n",
    "r1 = (lambda a, b, c: (-b + ( (b**2) - (4*a*c)  )**(1/2) )/(2*a))(a, b, c)\n",
    "r2 = (lambda a, b, c: (-b - ((b**2) - (4*a*c))**(1/2))/(2*a))(a, b, c)\n",
    "\n",
    "print(\"Raíz 1:\", r1, \"Raíz 2:\", r2)"
   ]
  },
  {
   "cell_type": "markdown",
   "metadata": {},
   "source": [
    "# Ejercicio 11\n",
    "\n",
    "Pedir dos nombres, y determinar si el segúndo nombre tiene más letras que la primera."
   ]
  },
  {
   "cell_type": "code",
   "execution_count": 63,
   "metadata": {},
   "outputs": [
    {
     "name": "stdout",
     "output_type": "stream",
     "text": [
      "El segundo nombre tiene más letras\n"
     ]
    }
   ],
   "source": [
    "n1 = input(\"Escribe un nombre: \")\n",
    "n2 = input(\"Escribe otro nombre: \")\n",
    "\n",
    "if len(n2) > len(n1):\n",
    "    print(\"El segundo nombre tiene más letras\")\n",
    "elif len(n2) == len(n1):\n",
    "    print(\"Ambos nombres tienen el mismo número de letras\")\n",
    "else:\n",
    "    print(\"El primer nombre tiene más letras\")\n"
   ]
  },
  {
   "cell_type": "markdown",
   "metadata": {},
   "source": [
    "# Ejercicio 12\n",
    "\n",
    "Pedir un número y mostrar si este es multiplo de 2 y mayor a 10."
   ]
  },
  {
   "cell_type": "code",
   "execution_count": 72,
   "metadata": {},
   "outputs": [
    {
     "name": "stdout",
     "output_type": "stream",
     "text": [
      "El número introducido si es múltiplo de 2 y mayor a 10 :)\n"
     ]
    }
   ],
   "source": [
    "x = float(input(\"Introduce un número: \"))\n",
    "\n",
    "if (x%2 ==0 and x >10):\n",
    "    print(\"El número introducido si es múltiplo de 2 y mayor a 10 :)\")\n",
    "else:\n",
    "    print(\"El número introducido no cumple con las condiciones. :(\")"
   ]
  },
  {
   "cell_type": "markdown",
   "metadata": {},
   "source": [
    "# Ejercicio 13\n",
    "\n",
    "Pedir un número y mostrar si este es al menos múltiplo de 2 o de 3."
   ]
  },
  {
   "cell_type": "code",
   "execution_count": 88,
   "metadata": {},
   "outputs": [
    {
     "name": "stdout",
     "output_type": "stream",
     "text": [
      "El número no es múltiplo de 2 o de 3 :(\n"
     ]
    }
   ],
   "source": [
    "x = float(input(\"Introduce un número: \"))\n",
    "\n",
    "if(x%2 == 0 or x%3 ==0):\n",
    "    print(\"El número es múltiplo de 2 o de 3 :)\")\n",
    "else:\n",
    "    print(\"El número no es múltiplo de 2 o de 3 :(\")"
   ]
  },
  {
   "cell_type": "markdown",
   "metadata": {},
   "source": [
    " # Ejercicio 14\n",
    "\n",
    "Pedir una oración al usuario e indicar si la letra \"x\" se encuentra dentro de la oración."
   ]
  },
  {
   "cell_type": "code",
   "execution_count": 97,
   "metadata": {},
   "outputs": [
    {
     "name": "stdout",
     "output_type": "stream",
     "text": [
      "La cadena si tiene la letra 'x'. :)\n"
     ]
    }
   ],
   "source": [
    "oracion = input(\"Escribe una oración: \")\n",
    "\n",
    "if \"x\" in oracion: #'x' minúscula.\n",
    "    print(\"La cadena si tiene la letra 'x'. :)\")\n",
    "else:\n",
    "    print(\"La cadena no tiene la letra 'x'. :(\")"
   ]
  },
  {
   "cell_type": "markdown",
   "metadata": {},
   "source": [
    "# Ejercicio 15\n",
    "\n",
    "Indicar si la palabra \"programación\" se encuentra dentro de esa cadena."
   ]
  },
  {
   "cell_type": "code",
   "execution_count": 102,
   "metadata": {},
   "outputs": [
    {
     "name": "stdout",
     "output_type": "stream",
     "text": [
      "La cadena si tiene la letra 'x'. :)\n",
      "La cadena si tiene la palabra 'programación'. :)\n"
     ]
    }
   ],
   "source": [
    "oracion = input(\"Escribe una oración: \")\n",
    "\n",
    "if \"x\" in oracion:\n",
    "    print(\"La cadena si tiene la letra 'x'. :)\")\n",
    "else:\n",
    "    print(\"La cadena no tiene la letra 'x'. :(\")\n",
    "\n",
    "if \"programación\" in oracion:\n",
    "    print(\"La cadena si tiene la palabra 'programación'. :)\")\n",
    "else:\n",
    "    print(\"La cadena no tiene la letra 'programación'. :(\")"
   ]
  }
 ],
 "metadata": {
  "interpreter": {
   "hash": "f93175da69b3f10f997f04267fd1a84e4114b0d67bf68a284cfc44f2ff9048ab"
  },
  "kernelspec": {
   "display_name": "Python 3.10.2 64-bit (windows store)",
   "language": "python",
   "name": "python3"
  },
  "language_info": {
   "codemirror_mode": {
    "name": "ipython",
    "version": 3
   },
   "file_extension": ".py",
   "mimetype": "text/x-python",
   "name": "python",
   "nbconvert_exporter": "python",
   "pygments_lexer": "ipython3",
   "version": "3.10.2"
  },
  "orig_nbformat": 4
 },
 "nbformat": 4,
 "nbformat_minor": 2
}

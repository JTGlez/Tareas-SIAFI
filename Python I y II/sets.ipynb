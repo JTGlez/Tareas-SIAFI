{
 "cells": [
  {
   "cell_type": "markdown",
   "metadata": {},
   "source": [
    "# Ejercicio 1\n",
    "\n",
    "Generar un conjunto con los elementos de la palabra más larga que recuerdes."
   ]
  },
  {
   "cell_type": "code",
   "execution_count": 3,
   "metadata": {},
   "outputs": [
    {
     "name": "stdout",
     "output_type": "stream",
     "text": [
      "{'n', 'b', 'o', 'e', 'r', 't', 'm', 'a', 'u', 'c'}\n"
     ]
    }
   ],
   "source": [
    "yujiro = set(['t', 'u', 'n', 'o', 'm', 'e', 't', 'e', 'c', 'a', 'b', 'r', 'a'])\n",
    "print(yujiro)"
   ]
  },
  {
   "cell_type": "markdown",
   "metadata": {},
   "source": [
    "# Ejercicio 2\n",
    "\n",
    "A este conjunto agregarle un número."
   ]
  },
  {
   "cell_type": "code",
   "execution_count": 4,
   "metadata": {},
   "outputs": [
    {
     "name": "stdout",
     "output_type": "stream",
     "text": [
      "{1, 'n', 'b', 'o', 'e', 'r', 't', 'm', 'a', 'u', 'c'}\n"
     ]
    }
   ],
   "source": [
    "yujiro = set(['t', 'u', 'n', 'o', 'm', 'e', 't', 'e', 'c', 'a', 'b', 'r', 'a'])\n",
    "yujiro.add(1)\n",
    "print(yujiro)"
   ]
  },
  {
   "cell_type": "markdown",
   "metadata": {},
   "source": [
    "# Ejercicio 3\n",
    "\n",
    "A este conjunto agregarle las letras de tu artista favorito."
   ]
  },
  {
   "cell_type": "code",
   "execution_count": 13,
   "metadata": {},
   "outputs": [
    {
     "name": "stdout",
     "output_type": "stream",
     "text": [
      "{'n', 'b', 'o', 'e', 'r', 't', 'm', 'a', 'u', 'c'}\n",
      "{'í', 'h', 'r', 'c', 'l', 'y', 'a', 'G', 'C'}\n",
      "{'h', 'e', 'r', 'l', 'y', 't', 'm', 'a', 'í', 'u', 'C', 'n', 'b', 'o', 'G', 'c'}\n"
     ]
    }
   ],
   "source": [
    "yujiro = set(['t', 'u', 'n', 'o', 'm', 'e', 't', 'e', 'c', 'a', 'b', 'r', 'a'])\n",
    "print(yujiro)\n",
    "charly = set(\"CharlyGarcía\")\n",
    "print(charly)\n",
    "\n",
    "union = yujiro.union(charly)\n",
    "print(union)\n"
   ]
  },
  {
   "cell_type": "markdown",
   "metadata": {},
   "source": [
    "# Ejercicio 4\n",
    "\n",
    "Mostrar la cantidad de elementos que hay en este conjunto."
   ]
  },
  {
   "cell_type": "code",
   "execution_count": 16,
   "metadata": {},
   "outputs": [
    {
     "name": "stdout",
     "output_type": "stream",
     "text": [
      "El conjunto union tiene un total de 16 elementos.\n"
     ]
    }
   ],
   "source": [
    "union = {'h', 'e', 'r', 'l', 'y', 't', 'm',\n",
    "        'a', 'í', 'u', 'C', 'n', 'b', 'o', 'G', 'c'}\n",
    "\n",
    "print(\"El conjunto union tiene un total de {} elementos.\".format(len(union)))\n"
   ]
  },
  {
   "cell_type": "markdown",
   "metadata": {},
   "source": [
    "# Ejercicio 5\n",
    "\n",
    "Generar un conjunto con las letras de tu nombre."
   ]
  },
  {
   "cell_type": "code",
   "execution_count": 17,
   "metadata": {},
   "outputs": [
    {
     "name": "stdout",
     "output_type": "stream",
     "text": [
      "{'é', 'i', 'g', 'o', 'G', 'J', 'n', 'e', 'r', 'T', 'l', 'á', 'z', 'L', 'u', 's'}\n"
     ]
    }
   ],
   "source": [
    "nombre = \"JorgeLuisTéllezGonzález\"\n",
    "conjunto = set(nombre)\n",
    "print(conjunto)"
   ]
  },
  {
   "cell_type": "markdown",
   "metadata": {},
   "source": [
    "# Ejercicio 6\n",
    "\n",
    "Generar un conjunto con el nombre de tu canción favorita."
   ]
  },
  {
   "cell_type": "code",
   "execution_count": 18,
   "metadata": {},
   "outputs": [
    {
     "name": "stdout",
     "output_type": "stream",
     "text": [
      "{'E', 'i', 'a', 'e', 't', 'd', 'L'}\n"
     ]
    }
   ],
   "source": [
    "cancion = \"EitiLeda\"\n",
    "conjunto = set(cancion)\n",
    "print(conjunto)"
   ]
  },
  {
   "cell_type": "markdown",
   "metadata": {},
   "source": [
    "# Ejercicio 7\n",
    "\n",
    "Encontrar la diferencia entre los dos conjuntos."
   ]
  },
  {
   "cell_type": "code",
   "execution_count": 26,
   "metadata": {},
   "outputs": [
    {
     "name": "stdout",
     "output_type": "stream",
     "text": [
      "{'é', 'i', 'g', 'o', 'G', 'J', 'n', 'e', 'r', 'T', 'l', 'á', 'z', 'L', 'u', 's'}\n",
      "{'E', 'i', 'a', 'e', 't', 'd', 'L'}\n",
      "Diferencia conjunto - conjunto1: {'E', 't', 'a', 'd'}\n"
     ]
    }
   ],
   "source": [
    "nombre = \"JorgeLuisTéllezGonzález\"\n",
    "conjunto1 = set(nombre)\n",
    "print(conjunto1)\n",
    "\n",
    "cancion = \"EitiLeda\"\n",
    "conjunto = set(cancion)\n",
    "print(conjunto)\n",
    "\n",
    "dif = set(conjunto.difference(conjunto1))\n",
    "print(\"Diferencia conjunto - conjunto1:\", dif)\n"
   ]
  },
  {
   "cell_type": "markdown",
   "metadata": {},
   "source": [
    "# Ejercicio 8\n",
    "\n",
    "Encontrar la intersección entre los dos conjuntos."
   ]
  },
  {
   "cell_type": "code",
   "execution_count": 27,
   "metadata": {},
   "outputs": [
    {
     "name": "stdout",
     "output_type": "stream",
     "text": [
      "{'é', 'i', 'g', 'o', 'G', 'J', 'n', 'e', 'r', 'T', 'l', 'á', 'z', 'L', 'u', 's'}\n",
      "{'E', 'i', 'a', 'e', 't', 'd', 'L'}\n",
      "Intersección {'i', 'L', 'e'}\n"
     ]
    }
   ],
   "source": [
    "nombre = \"JorgeLuisTéllezGonzález\"\n",
    "conjunto1 = set(nombre)\n",
    "print(conjunto1)\n",
    "\n",
    "cancion = \"EitiLeda\"\n",
    "conjunto = set(cancion)\n",
    "print(conjunto)\n",
    "\n",
    "inter = set(conjunto.intersection(conjunto1))\n",
    "print(\"Intersección\", inter)\n"
   ]
  },
  {
   "cell_type": "markdown",
   "metadata": {},
   "source": [
    "# Ejercicio 9\n",
    "\n",
    "Encontrar la union entre los dos conjuntos."
   ]
  },
  {
   "cell_type": "code",
   "execution_count": 29,
   "metadata": {},
   "outputs": [
    {
     "name": "stdout",
     "output_type": "stream",
     "text": [
      "{'é', 'i', 'g', 'o', 'G', 'J', 'n', 'e', 'r', 'T', 'l', 'á', 'z', 'L', 'u', 's'}\n",
      "{'E', 'i', 'a', 'e', 't', 'd', 'L'}\n",
      "Unión: {'e', 'r', 'l', 't', 'd', 'z', 'a', 'u', 'é', 'E', 'i', 'g', 'o', 'n', 'J', 's', 'T', 'á', 'L', 'G'}\n"
     ]
    }
   ],
   "source": [
    "nombre = \"JorgeLuisTéllezGonzález\"\n",
    "conjunto1 = set(nombre)\n",
    "print(conjunto1)\n",
    "\n",
    "cancion = \"EitiLeda\"\n",
    "conjunto = set(cancion)\n",
    "print(conjunto)\n",
    "\n",
    "union = set(conjunto.union(conjunto1))\n",
    "print(\"Unión:\", union)"
   ]
  },
  {
   "cell_type": "markdown",
   "metadata": {},
   "source": [
    "# Ejercicio 10\n",
    "\n",
    "Realizar los ultimos 3 ejercicios con operadores de los sets."
   ]
  },
  {
   "cell_type": "code",
   "execution_count": 30,
   "metadata": {},
   "outputs": [
    {
     "name": "stdout",
     "output_type": "stream",
     "text": [
      "{'é', 'i', 'g', 'o', 'G', 'J', 'n', 'e', 'r', 'T', 'l', 'á', 'z', 'L', 'u', 's'}\n",
      "{'E', 'i', 'a', 'e', 't', 'd', 'L'}\n",
      "Unión: {'e', 'r', 'l', 't', 'd', 'z', 'a', 'u', 'é', 'E', 'i', 'g', 'o', 'n', 'J', 's', 'T', 'á', 'L', 'G'}\n",
      "Diferencia: {'E', 't', 'a', 'd'}\n",
      "Intersección: {'i', 'L', 'e'}\n"
     ]
    }
   ],
   "source": [
    "nombre = \"JorgeLuisTéllezGonzález\"\n",
    "conjunto1 = set(nombre)\n",
    "print(conjunto1)\n",
    "\n",
    "cancion = \"EitiLeda\"\n",
    "conjunto = set(cancion)\n",
    "print(conjunto)\n",
    "\n",
    "union = conjunto | conjunto1\n",
    "print(\"Unión:\", union)\n",
    "\n",
    "diferencia = conjunto - conjunto1\n",
    "print(\"Diferencia:\", diferencia)\n",
    "\n",
    "interseccion = conjunto & conjunto1\n",
    "print(\"Intersección:\", interseccion)"
   ]
  }
 ],
 "metadata": {
  "interpreter": {
   "hash": "2be5faf79681da6f2a61fdfdd5405d65d042280f7fba6178067603e3a2925119"
  },
  "kernelspec": {
   "display_name": "Python 3.10.2 64-bit",
   "language": "python",
   "name": "python3"
  },
  "language_info": {
   "codemirror_mode": {
    "name": "ipython",
    "version": 3
   },
   "file_extension": ".py",
   "mimetype": "text/x-python",
   "name": "python",
   "nbconvert_exporter": "python",
   "pygments_lexer": "ipython3",
   "version": "3.10.2"
  },
  "orig_nbformat": 4
 },
 "nbformat": 4,
 "nbformat_minor": 2
}

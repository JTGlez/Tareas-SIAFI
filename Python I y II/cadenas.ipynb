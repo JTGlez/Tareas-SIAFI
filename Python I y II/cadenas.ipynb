{
 "cells": [
  {
   "cell_type": "markdown",
   "metadata": {},
   "source": [
    "# Ejercicio 1:\n",
    "\n",
    "Crear una cadena de tipo parrafo con un poema."
   ]
  },
  {
   "cell_type": "code",
   "execution_count": 1,
   "metadata": {},
   "outputs": [
    {
     "name": "stdout",
     "output_type": "stream",
     "text": [
      "\n",
      "Las rosas son rojas,\n",
      "Las violetas son azules,\n",
      "El azúcar es dulce,\n",
      "Y así eres tú.\n",
      "\n"
     ]
    }
   ],
   "source": [
    "poema = \"\"\"\n",
    "Las rosas son rojas,\n",
    "Las violetas son azules,\n",
    "El azúcar es dulce,\n",
    "Y así eres tú.\n",
    "\"\"\"\n",
    "\n",
    "print(poema)"
   ]
  },
  {
   "cell_type": "markdown",
   "metadata": {},
   "source": [
    "# Ejercicio 2:\n",
    "\n",
    "Crear una cadena de tipo parrafo con un haiku, usar caracteres especiales y el caracter de scape para darle formato."
   ]
  },
  {
   "cell_type": "code",
   "execution_count": 5,
   "metadata": {},
   "outputs": [
    {
     "name": "stdout",
     "output_type": "stream",
     "text": [
      "La \"libertad\", \n",
      "Y el tirano,\n",
      "Beben juntos.\n"
     ]
    }
   ],
   "source": [
    "haiku = 'La \\\"libertad\\\", \\nY el tirano,\\nBeben juntos.'\n",
    "print(haiku)"
   ]
  },
  {
   "cell_type": "markdown",
   "metadata": {},
   "source": [
    "# Ejercicio 3\n",
    "\n",
    "Crear una cadena de tipo parrafo con un poema y mediante slicing imprimir el primer verso."
   ]
  },
  {
   "cell_type": "code",
   "execution_count": 8,
   "metadata": {},
   "outputs": [
    {
     "name": "stdout",
     "output_type": "stream",
     "text": [
      "¿Con qué he de irme?\n"
     ]
    }
   ],
   "source": [
    "poema = \"\"\"¿Con qué he de irme?\n",
    "¿Nada dejaré en pos de mi sobre la tierra?\n",
    "¿Cómo ha de actuar mi corazón?\n",
    "¿Acaso en vano venimos a vivir,\n",
    "a brotar sobre la tierra?\n",
    "Dejemos al menos flores\n",
    "Dejemos al menos cantos.\n",
    "\"\"\"\n",
    "\n",
    "sli = slice(0, 20)\n",
    "\n",
    "print(poema[sli])"
   ]
  },
  {
   "cell_type": "markdown",
   "metadata": {},
   "source": [
    "# Ejercicio 4\n",
    "\n",
    "Crear una cadena de tipo parrafo con un poema y mediante slicing e indices negativos imprimir el último verso."
   ]
  },
  {
   "cell_type": "code",
   "execution_count": 34,
   "metadata": {},
   "outputs": [
    {
     "name": "stdout",
     "output_type": "stream",
     "text": [
      "Y cada suspiro un remanso del grito.\n"
     ]
    }
   ],
   "source": [
    "poema = \"\"\"Cada canción es un remanso del amor.\n",
    "Cada lucero, un remanso del tiempo. Un nudo del tiempo.\n",
    "Y cada suspiro un remanso del grito.\"\"\"\n",
    "\n",
    "print((poema[-1:-37:-1])[::-1])\n"
   ]
  },
  {
   "cell_type": "markdown",
   "metadata": {},
   "source": [
    "# Ejercicio 5\n",
    "\n",
    "Pedir una palabra."
   ]
  },
  {
   "cell_type": "code",
   "execution_count": 8,
   "metadata": {},
   "outputs": [
    {
     "name": "stdout",
     "output_type": "stream",
     "text": [
      "Hola\n"
     ]
    }
   ],
   "source": [
    "palabra = input(\"Escribe una palabra\")\n",
    "lista = palabra.split(\" \")\n",
    "print(lista[0])"
   ]
  },
  {
   "cell_type": "markdown",
   "metadata": {},
   "source": [
    "# Ejercicio 6\n",
    "\n",
    "Pedir una oración."
   ]
  },
  {
   "cell_type": "code",
   "execution_count": 15,
   "metadata": {},
   "outputs": [
    {
     "name": "stdout",
     "output_type": "stream",
     "text": [
      "Escribiste: Buenos días!\n"
     ]
    }
   ],
   "source": [
    "oracion = input(\"Escribe una oración: \")\n",
    "print(\"Escribiste:\", oracion)"
   ]
  },
  {
   "cell_type": "markdown",
   "metadata": {},
   "source": [
    "# Ejercicio 7\n",
    "\n",
    "Pedir varias oraciones y crear un parrafo"
   ]
  },
  {
   "cell_type": "code",
   "execution_count": 14,
   "metadata": {},
   "outputs": [
    {
     "name": "stdout",
     "output_type": "stream",
     "text": [
      "Es un angel\n",
      "Me dije cuando sentí\n",
      "Su cuerpo\n"
     ]
    }
   ],
   "source": [
    "oracion1 = input(\"Escribe una oración: \")\n",
    "oracion2 = input(\"Escribe otra oración: \")\n",
    "oracion3 = input(\"Escribe una última oración: \")\n",
    "\n",
    "parrafo = \"{}\\n{}\\n{}\".format(oracion1, oracion2, oracion3)\n",
    "print(parrafo)"
   ]
  },
  {
   "cell_type": "markdown",
   "metadata": {},
   "source": [
    "# Ejercicio 8\n",
    "\n",
    "Pedir una oración y determinar la cantidad de caracteres (contando espacios) que tiene."
   ]
  },
  {
   "cell_type": "code",
   "execution_count": 19,
   "metadata": {},
   "outputs": [
    {
     "name": "stdout",
     "output_type": "stream",
     "text": [
      "Oración: Holaa que tal \n",
      "Cantidad de caracteres:  13\n"
     ]
    }
   ],
   "source": [
    "oracion = input(\"Escribe una oración: \")\n",
    "print(\"Oración:\", oracion, \"\\nCantidad de caracteres: \", len(oracion))"
   ]
  },
  {
   "cell_type": "markdown",
   "metadata": {},
   "source": [
    "# Ejercicio 9\n",
    "\n",
    "Pedir una oración y determinar si la letra x se encuentra en la oración."
   ]
  },
  {
   "cell_type": "code",
   "execution_count": 26,
   "metadata": {},
   "outputs": [
    {
     "name": "stdout",
     "output_type": "stream",
     "text": [
      "La oración: 'Compré un xilófono' si contiene una 'x'.\n"
     ]
    }
   ],
   "source": [
    "oracion = input(\"Escribe una oración: \")\n",
    "\n",
    "if \"x\" in oracion:\n",
    "    print(\"La oración: '\" + oracion +\"' si contiene una 'x'.\") #'x' minúscula\n",
    "else:\n",
    "    print(\"La oración: \", oracion, \"no contiene una 'x'.\")"
   ]
  },
  {
   "cell_type": "markdown",
   "metadata": {},
   "source": [
    "# Ejercicio 10\n",
    "\n",
    "Crear una oración e imprimirla asegurando que no existen espacios al inicio y al final de la oración, imprimirla en mayúsculas y en minúsculas."
   ]
  },
  {
   "cell_type": "code",
   "execution_count": 28,
   "metadata": {},
   "outputs": [
    {
     "name": "stdout",
     "output_type": "stream",
     "text": [
      "Escribiste:      Hola mundo          \n",
      "Cadena sin espacios: Hola mundo\n",
      "Cadena sin espacios en mayúsculas: HOLA MUNDO\n",
      "Cadena sin espacios en minúsculas: hola mundo\n"
     ]
    }
   ],
   "source": [
    "oracion = input(\"Escribe una oración: \")\n",
    "print(\"Escribiste:\", oracion)\n",
    "\n",
    "oracion = oracion.strip()\n",
    "print(\"Cadena sin espacios:\", oracion)\n",
    "print(\"Cadena sin espacios en mayúsculas:\", oracion.upper())\n",
    "print(\"Cadena sin espacios en minúsculas:\", oracion.lower())"
   ]
  },
  {
   "cell_type": "markdown",
   "metadata": {},
   "source": [
    "# Ejercicio 11\n",
    "\n",
    "Pedir una oración y cambiar todos los espacios por guiones bajos."
   ]
  },
  {
   "cell_type": "code",
   "execution_count": 31,
   "metadata": {},
   "outputs": [
    {
     "name": "stdout",
     "output_type": "stream",
     "text": [
      "Escribiste: Hoy con esta canción que escribí\n",
      "Cadena con guiones bajos: Hoy_con_esta_canción_que_escribí\n"
     ]
    }
   ],
   "source": [
    "oracion = input(\"Escribe una oración: \")\n",
    "print(\"Escribiste:\", oracion)\n",
    "\n",
    "oracion = oracion.replace(\" \", \"_\")\n",
    "print(\"Cadena con guiones bajos:\", oracion)"
   ]
  },
  {
   "cell_type": "markdown",
   "metadata": {},
   "source": [
    "# Ejercicio 12\n",
    "\n",
    "Pedir una oración y cambiar los primeros 3 espacios por puntos."
   ]
  },
  {
   "cell_type": "code",
   "execution_count": 32,
   "metadata": {},
   "outputs": [
    {
     "name": "stdout",
     "output_type": "stream",
     "text": [
      "Escribiste: I wanna have control I want a perfect body\n",
      "Cadena con puntos en los primeros 3 espacios: I.wanna.have.control I want a perfect body\n"
     ]
    }
   ],
   "source": [
    "oracion = input(\"Escribe una oración: \")\n",
    "print(\"Escribiste:\", oracion)\n",
    "\n",
    "oracion = oracion.replace(\" \",\".\", 3)\n",
    "print(\"Cadena con puntos en los primeros 3 espacios:\", oracion)"
   ]
  },
  {
   "cell_type": "markdown",
   "metadata": {},
   "source": [
    "# Ejercicio 13\n",
    "\n",
    "Pedir los datos de 3 alumnos (nombre, apellido, edad y carrera) e imprimirlos de forma que se pueda ver una tabla."
   ]
  },
  {
   "cell_type": "code",
   "execution_count": 45,
   "metadata": {},
   "outputs": [
    {
     "name": "stdout",
     "output_type": "stream",
     "text": [
      "|       Nombre       |      Apellido      | Edad |      Carrera       |\n",
      "|---------------------------------------------------------------------|\n",
      "|       Jorge        |      González      |  23  |    Computación     |\n",
      "|        Juan        |       Pérez        |  21  |     Industrial     |\n",
      "|        Paco        |      Sánchez       |  22  |      Mecánica      |\n",
      "\n"
     ]
    }
   ],
   "source": [
    "def pedirDatos():\n",
    "    nombre = input(\"Escribe el nombre: \")\n",
    "    apellido = input(\"Escribe el apellido: \")\n",
    "    edad = input(\"Escribe la edad: \")\n",
    "    carrera = input(\"Escribe la carrera: \")\n",
    "    return nombre, apellido, edad, carrera\n",
    "\n",
    "n1, a1, e1, c1 = pedirDatos()\n",
    "n2, a2, e2, c2 = pedirDatos()\n",
    "n3, a3, e3, c3 = pedirDatos()\n",
    "\n",
    "plantilla = \"|{0:^20s}|{1:^20s}|{2:^6}|{3:^20s}|\\n\"\n",
    "separacion = \"|{0:-^69}|\\n\".format(\"\")\n",
    "tabla = plantilla.format(\"Nombre\", \"Apellido\", \"Edad\", \"Carrera\")\n",
    "tabla += separacion\n",
    "tabla += plantilla.format(n1,a1,e1,c1)\n",
    "tabla += plantilla.format(n2, a2, e2, c2)\n",
    "tabla += plantilla.format(n3, a3, e3, c3)\n",
    "print(tabla)\n"
   ]
  }
 ],
 "metadata": {
  "interpreter": {
   "hash": "2be5faf79681da6f2a61fdfdd5405d65d042280f7fba6178067603e3a2925119"
  },
  "kernelspec": {
   "display_name": "Python 3.10.2 64-bit",
   "language": "python",
   "name": "python3"
  },
  "language_info": {
   "codemirror_mode": {
    "name": "ipython",
    "version": 3
   },
   "file_extension": ".py",
   "mimetype": "text/x-python",
   "name": "python",
   "nbconvert_exporter": "python",
   "pygments_lexer": "ipython3",
   "version": "3.10.2"
  },
  "orig_nbformat": 4
 },
 "nbformat": 4,
 "nbformat_minor": 2
}

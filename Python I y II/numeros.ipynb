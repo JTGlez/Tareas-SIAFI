{
 "cells": [
  {
   "cell_type": "markdown",
   "metadata": {},
   "source": [
    "# Ejercicio 1\n",
    "\n",
    "Mediante la función input() pedir un número al usuario, transformarlo en número entero, flotante y complejo."
   ]
  },
  {
   "cell_type": "code",
   "execution_count": 3,
   "metadata": {},
   "outputs": [
    {
     "name": "stdout",
     "output_type": "stream",
     "text": [
      "Valor introducido: 5\n",
      "<class 'int'>\n",
      "<class 'float'>\n",
      "<class 'complex'>\n"
     ]
    }
   ],
   "source": [
    "x = input(\"Escribe un número: \")\n",
    "print(\"Valor introducido:\", x)\n",
    "\n",
    "entero = int(x)\n",
    "flotante = float(x)\n",
    "complejo = complex(x)\n",
    "print(type(entero), type(flotante), type(complejo), sep=\"\\n\")"
   ]
  },
  {
   "cell_type": "markdown",
   "metadata": {},
   "source": [
    "# Ejercicio 2\n",
    "\n",
    "Pedir al usuario un número entero para la variable x, transformar e imprimir esta x como número flotante y complejo."
   ]
  },
  {
   "cell_type": "code",
   "execution_count": 9,
   "metadata": {},
   "outputs": [
    {
     "name": "stdout",
     "output_type": "stream",
     "text": [
      "Valor como flotante\n",
      "5.0\n",
      "Valor como complejo\n",
      "(5+0j)\n"
     ]
    }
   ],
   "source": [
    "x = int(input(\"Escribe un valor entero\"))\n",
    "\n",
    "print(\"Valor como flotante\", float(x), \"Valor como complejo\", complex(x), sep=\"\\n\")"
   ]
  },
  {
   "cell_type": "markdown",
   "metadata": {},
   "source": [
    "# Ejemplo 3\n",
    "\n",
    "Pedir al usuario un número flotante para la variable x, transformar e imprimir esta x como número entero y complejo. "
   ]
  },
  {
   "cell_type": "code",
   "execution_count": 10,
   "metadata": {},
   "outputs": [
    {
     "name": "stdout",
     "output_type": "stream",
     "text": [
      "Valor como entero\n",
      "5\n",
      "Valor como complejo\n",
      "(5+0j)\n"
     ]
    }
   ],
   "source": [
    "x = float(input(\"Escribe un valor flotante: \"))\n",
    "print(\"Valor como entero\", int(x), \"Valor como complejo\", complex(x), sep=\"\\n\")\n"
   ]
  },
  {
   "cell_type": "markdown",
   "metadata": {},
   "source": [
    "# Ejemplo 4\n",
    "\n",
    "Pedir al usuario un número complejo para la variable x, imprimir la parte real y la parte imaginaria de este número complejo."
   ]
  },
  {
   "cell_type": "code",
   "execution_count": 12,
   "metadata": {},
   "outputs": [
    {
     "name": "stdout",
     "output_type": "stream",
     "text": [
      "(1+3j)\n",
      "Parte real: \n",
      "1.0\n",
      "Parte imaginaria\n",
      "3.0\n"
     ]
    }
   ],
   "source": [
    "x = complex(input(\"Escribe el número complejo de la forma x+ij\"))\n",
    "print(x)\n",
    "print(\"Parte real: \", x.real, \"Parte imaginaria\", x.imag, sep=\"\\n\")"
   ]
  },
  {
   "cell_type": "markdown",
   "metadata": {},
   "source": [
    "# Ejemplo 5\n",
    "\n",
    "Pedir dos números para las variables A y B, usando la notación cientifica, y crear un número complejo con la variable B como parte real y la variable A como imaginaría, imprimir el número."
   ]
  },
  {
   "cell_type": "code",
   "execution_count": 21,
   "metadata": {},
   "outputs": [
    {
     "name": "stdout",
     "output_type": "stream",
     "text": [
      "Número complejo creado: (100+2000j)\n"
     ]
    }
   ],
   "source": [
    "a = input(\"Escribe un número\") # 2e3 y 1e2\n",
    "b = input(\"Escribe otro número\")\n",
    "print(\"Número complejo creado:\", complex(float(b), float(a)))"
   ]
  }
 ],
 "metadata": {
  "interpreter": {
   "hash": "f93175da69b3f10f997f04267fd1a84e4114b0d67bf68a284cfc44f2ff9048ab"
  },
  "kernelspec": {
   "display_name": "Python 3.10.2 64-bit (windows store)",
   "language": "python",
   "name": "python3"
  },
  "language_info": {
   "codemirror_mode": {
    "name": "ipython",
    "version": 3
   },
   "file_extension": ".py",
   "mimetype": "text/x-python",
   "name": "python",
   "nbconvert_exporter": "python",
   "pygments_lexer": "ipython3",
   "version": "3.10.2"
  },
  "orig_nbformat": 4
 },
 "nbformat": 4,
 "nbformat_minor": 2
}

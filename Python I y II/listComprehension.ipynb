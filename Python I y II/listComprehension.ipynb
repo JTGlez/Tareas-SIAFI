{
 "cells": [
  {
   "cell_type": "markdown",
   "metadata": {},
   "source": [
    "# Ejercicio 1\n",
    "\n",
    "Ocupar el list comprehensión para generar 200 números aleatorios siempre y cuando los números sean pares."
   ]
  },
  {
   "cell_type": "code",
   "execution_count": 6,
   "metadata": {},
   "outputs": [
    {
     "name": "stdout",
     "output_type": "stream",
     "text": [
      "[52, 87, 112, 9, 132, 3, 82, 173, 107, 166, 76, 82, 2, 96, 23, 94, 192, 66, 187, 158, 128, 143, 71, 81, 140, 151, 10, 22, 177, 114, 115, 65, 41, 167, 40, 105, 7, 114, 36, 173, 178, 147, 116, 129, 79, 35, 175, 28, 38, 43, 118, 164, 74, 55, 172, 97, 3, 3, 174, 48, 142, 31, 10, 7, 158, 120, 103, 26, 119, 120, 37, 168, 141, 100, 151, 48, 123, 179, 88, 16, 181, 175, 157, 18, 6, 157, 125, 140, 6, 168, 172, 34, 121, 199, 30, 135, 3, 10, 133, 49, 26, 182, 6, 162, 47, 37, 146, 126, 12, 84, 73, 134, 44, 78, 87, 171, 185, 10, 134, 51, 57, 53, 187, 102, 16, 114, 123, 135, 177, 108, 50, 100, 142, 72, 112, 188, 62, 161, 15, 96, 71, 153, 185, 27, 83, 108, 96, 98, 94, 73, 23, 92, 18, 74, 70, 106, 53, 66, 180, 13, 59, 143, 32, 121, 193, 62, 192, 150, 146, 188, 49, 196, 60, 60, 79, 174, 88, 166, 95, 48, 66, 126, 144, 69, 116, 87, 177, 57, 194, 142, 32, 150, 190, 95, 186, 21, 192, 9, 57, 115]\n",
      "200\n"
     ]
    }
   ],
   "source": [
    "import random\n",
    "\n",
    "a = [random.randint(1, 200) for x in range(1, 401) if x % 2 == 0]\n",
    "print(a)\n",
    "\n",
    "print(len(a))\n"
   ]
  },
  {
   "cell_type": "markdown",
   "metadata": {},
   "source": [
    "# Ejercicio 2\n",
    "\n",
    "Generar una lista de 10 números aleatorios entre el 1 y el 20, transformarlo en un conjunto para determinar cuantos números distintos aparecieron."
   ]
  },
  {
   "cell_type": "code",
   "execution_count": 12,
   "metadata": {},
   "outputs": [
    {
     "name": "stdout",
     "output_type": "stream",
     "text": [
      "[15, 14, 16, 10, 10, 19, 8, 14, 20, 20, 3, 17, 20, 4, 5, 7, 16, 8, 13, 18]\n",
      "{3, 4, 5, 7, 8, 10, 13, 14, 15, 16, 17, 18, 19, 20}\n"
     ]
    }
   ],
   "source": [
    "import random\n",
    "lista = [random.randint(1, 20) for x in range(1, 21)]\n",
    "print(lista)\n",
    "\n",
    "conjunto = set(lista)\n",
    "print(conjunto)"
   ]
  },
  {
   "cell_type": "markdown",
   "metadata": {},
   "source": [
    "# Ejercicio 3\n",
    "\n",
    "De la lista original, generar el promedio de esta para determinar el promedio de la generación aleatoria."
   ]
  },
  {
   "cell_type": "code",
   "execution_count": 13,
   "metadata": {},
   "outputs": [
    {
     "name": "stdout",
     "output_type": "stream",
     "text": [
      "96.75\n"
     ]
    }
   ],
   "source": [
    "import random\n",
    "\n",
    "a = [random.randint(1, 200) for x in range(1, 401) if x % 2 == 0]\n",
    "\n",
    "print(sum(a) / len(a))"
   ]
  },
  {
   "cell_type": "markdown",
   "metadata": {},
   "source": [
    "# Ejercicio 4\n",
    "\n",
    "Ordenar la lista original y determinar cual es la moda (el número que más aparece) y la media (el número que aparece en medio de la lista ordenada) de la generación aleatoria."
   ]
  },
  {
   "cell_type": "code",
   "execution_count": 16,
   "metadata": {},
   "outputs": [
    {
     "name": "stdout",
     "output_type": "stream",
     "text": [
      "[27, 155, 21, 46, 39, 184, 48, 156, 96, 11, 97, 127, 22, 36, 122, 44, 52, 136, 72, 39, 25, 73, 75, 100, 71, 10, 68, 85, 124, 25, 177, 192, 170, 5, 136, 125, 150, 155, 108, 101, 129, 42, 182, 91, 110, 170, 195, 24, 154, 63, 84, 42, 18, 58, 18, 53, 140, 81, 8, 3, 46, 25, 171, 160, 106, 9, 8, 200, 112, 190, 176, 109, 180, 162, 145, 195, 182, 75, 198, 123, 171, 133, 61, 98, 75, 4, 168, 87, 55, 153, 171, 194, 176, 117, 31, 166, 40, 103, 197, 42, 5, 192, 88, 133, 56, 189, 92, 54, 74, 161, 111, 148, 46, 12, 137, 121, 192, 166, 180, 162, 63, 142, 79, 121, 121, 3, 45, 182, 119, 44, 145, 162, 6, 27, 147, 91, 134, 123, 92, 181, 136, 111, 12, 138, 118, 183, 33, 152, 37, 106, 52, 32, 107, 88, 143, 55, 2, 57, 4, 143, 138, 66, 127, 91, 100, 125, 101, 3, 87, 78, 145, 102, 10, 134, 55, 183, 51, 123, 96, 94, 128, 192, 11, 101, 19, 86, 96, 13, 161, 157, 181, 40, 47, 186, 200, 81, 186, 61, 5, 87]\n",
      "La moda es:  192\n",
      "La mediana es:  100.5\n",
      "La media es:  99.93\n"
     ]
    }
   ],
   "source": [
    "import random\n",
    "from statistics import mode, median, mean\n",
    "\n",
    "a = [random.randint(1, 200) for x in range(1, 401) if x % 2 == 0]\n",
    "print(a)\n",
    "\n",
    "print(\"La moda es: \", mode(a))\n",
    "\n",
    "print(\"La mediana es: \", median(a))\n",
    "\n",
    "print(\"La media es: \", mean(a))"
   ]
  }
 ],
 "metadata": {
  "interpreter": {
   "hash": "2be5faf79681da6f2a61fdfdd5405d65d042280f7fba6178067603e3a2925119"
  },
  "kernelspec": {
   "display_name": "Python 3.10.2 64-bit",
   "language": "python",
   "name": "python3"
  },
  "language_info": {
   "codemirror_mode": {
    "name": "ipython",
    "version": 3
   },
   "file_extension": ".py",
   "mimetype": "text/x-python",
   "name": "python",
   "nbconvert_exporter": "python",
   "pygments_lexer": "ipython3",
   "version": "3.10.2"
  },
  "orig_nbformat": 4
 },
 "nbformat": 4,
 "nbformat_minor": 2
}

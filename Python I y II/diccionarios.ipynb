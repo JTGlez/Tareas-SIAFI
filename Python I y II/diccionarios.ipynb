{
 "cells": [
  {
   "cell_type": "markdown",
   "metadata": {},
   "source": [
    "# Ejercicio 1\n",
    "\n",
    "Generar un diccionario de números primos, donde la llave sea su posición y los valores los números primos (al menos 10)."
   ]
  },
  {
   "cell_type": "code",
   "execution_count": 3,
   "metadata": {},
   "outputs": [
    {
     "name": "stdout",
     "output_type": "stream",
     "text": [
      "{1: 2, 2: 3, 3: 5, 4: 7, 5: 11, 6: 13, 7: 17, 8: 19, 9: 23, 10: 29}\n"
     ]
    }
   ],
   "source": [
    "# Generar un diccionario de números primos, donde la llave sea su posición y los valores los números primos hasta un máximo de 10.\n",
    "\n",
    "primos = {1: 2, \n",
    "        2: 3, \n",
    "        3: 5, \n",
    "        4: 7, \n",
    "        5: 11, \n",
    "        6: 13, \n",
    "        7: 17, \n",
    "        8: 19, \n",
    "        9: 23, \n",
    "        10: 29}\n",
    "\n",
    "print(primos)"
   ]
  },
  {
   "cell_type": "markdown",
   "metadata": {},
   "source": [
    "# Ejercicio 2\n",
    "\n",
    "Pedirle al usuario su nombre completo, quitar los espacios de la cadena (usar método replace) enumerar las letras y generar un diccionario."
   ]
  },
  {
   "cell_type": "code",
   "execution_count": 2,
   "metadata": {},
   "outputs": [
    {
     "name": "stdout",
     "output_type": "stream",
     "text": [
      "{0: 'J', 1: 'o', 2: 'r', 3: 'g', 4: 'e', 5: 'L', 6: 'u', 7: 'i', 8: 's', 9: 'T', 10: 'é', 11: 'l', 12: 'l', 13: 'e', 14: 'z', 15: 'G', 16: 'o', 17: 'n', 18: 'z', 19: 'á', 20: 'l', 21: 'e', 22: 'z'}\n"
     ]
    }
   ],
   "source": [
    "nombre = input(\"Ingresa tu nombre completo.\")\n",
    "nombre = nombre.replace(\" \",\"\")\n",
    "\n",
    "diccionario = {}\n",
    "\n",
    "for i in range(len(nombre)):\n",
    "    diccionario[i] = nombre[i]\n",
    "    \n",
    "print(diccionario)\n"
   ]
  },
  {
   "cell_type": "markdown",
   "metadata": {},
   "source": [
    "# Ejercicio 3\n",
    "\n",
    "Generar un diccionario para 5 palabras traducidas en 2 o 3 idiomas distintos, usar listas y la función zip()."
   ]
  },
  {
   "cell_type": "code",
   "execution_count": 32,
   "metadata": {},
   "outputs": [
    {
     "name": "stdout",
     "output_type": "stream",
     "text": [
      "{'hola': {'es': 'hola', 'en': 'hello', 'fr': 'bonjour'}, 'mundo': {'es': 'mundo', 'en': 'world', 'fr': 'monde'}, 'perro': {'es': 'perro', 'en': 'dog', 'fr': 'chien'}, 'gato': {'es': 'gato', 'en': 'cat', 'fr': 'chat'}, 'casa': {'es': 'casa', 'en': 'house', 'fr': 'maison'}}\n",
      "{'hola': {'es': 'hola', 'en': 'hello', 'fr': 'bonjour'}, 'mundo': {'es': 'mundo', 'en': 'world', 'fr': 'monde'}, 'perro': {'es': 'perro', 'en': 'dog', 'fr': 'chien'}, 'gato': {'es': 'gato', 'en': 'cat', 'fr': 'chat'}, 'casa': {'es': 'casa', 'en': 'house', 'fr': 'maison'}}\n"
     ]
    }
   ],
   "source": [
    "palabras = ['hola', 'mundo', 'perro', 'gato', 'casa']\n",
    "idiomas = ['es', 'en', 'fr']\n",
    "es = ['hola', 'mundo', 'perro', 'gato', 'casa']\n",
    "en = ['hello', 'world', 'dog', 'cat', 'house']\n",
    "fr = ['bonjour', 'monde', 'chien', 'chat', 'maison']\n",
    "\n",
    "diccionario = dict(zip(palabras, (dict(zip(idiomas, (es[0], en[0], fr[0]))), dict(zip(idiomas, (es[1], en[1], fr[1]))), dict(zip(idiomas, (es[2], en[2], fr[2]))), \n",
    "                                dict(zip(idiomas, (es[3], en[3], fr[3]))), dict(zip(idiomas, (es[4], en[4], fr[4]))) )))\n",
    "\n",
    "\n",
    "print(diccionario)\n",
    "\n",
    "#Via alternativa por ciclos.\n",
    "\n",
    "for i in range(len(palabras)):\n",
    "    diccionario[palabras[i]] = {}\n",
    "    for j in range(len(idiomas)):\n",
    "        if idiomas[j] == 'es':\n",
    "            diccionario[palabras[i]][idiomas[j]] = es[i]\n",
    "        elif idiomas[j] == 'en':\n",
    "            diccionario[palabras[i]][idiomas[j]] = en[i]\n",
    "        else:\n",
    "            diccionario[palabras[i]][idiomas[j]] = fr[i]\n",
    "print(diccionario)\n",
    "\n"
   ]
  },
  {
   "cell_type": "markdown",
   "metadata": {},
   "source": [
    "# Ejercicio 4\n",
    "\n",
    "Ocupar la notación de diccionarios anidados para generar una tabla con estas palabras y sus traducciones."
   ]
  },
  {
   "cell_type": "code",
   "execution_count": 39,
   "metadata": {},
   "outputs": [
    {
     "name": "stdout",
     "output_type": "stream",
     "text": [
      "{'hola': {'es': 'hola', 'en': 'hello', 'fr': 'bonjour'}, 'mundo': {'es': 'mundo', 'en': 'world', 'fr': 'monde'}, 'perro': {'es': 'perro', 'en': 'dog', 'fr': 'chien'}, 'gato': {'es': 'gato', 'en': 'cat', 'fr': 'chat'}, 'casa': {'es': 'casa', 'en': 'house', 'fr': 'maison'}}\n"
     ]
    }
   ],
   "source": [
    "diccionario = {'hola': {'es': 'hola', 'en': 'hello', 'fr': 'bonjour'}, \n",
    "            'mundo': {'es': 'mundo', 'en': 'world', 'fr': 'monde'}, \n",
    "            'perro': {'es': 'perro', 'en': 'dog', 'fr': 'chien'}, \n",
    "            'gato': {'es': 'gato', 'en': 'cat', 'fr': 'chat'}, \n",
    "            'casa': {'es': 'casa', 'en': 'house', 'fr': 'maison'}}\n",
    "\n",
    "print(diccionario)"
   ]
  },
  {
   "cell_type": "markdown",
   "metadata": {},
   "source": [
    "# Ejercicio 5\n",
    "\n",
    "Generar una lista con el nombre de 10 personas y otra con sus carreras, ocupar la función enumerate() para generar un diccionario de personas y la función zip() para generar un diccionario de carreras por medio de nombres de personas."
   ]
  },
  {
   "cell_type": "code",
   "execution_count": 49,
   "metadata": {},
   "outputs": [
    {
     "name": "stdout",
     "output_type": "stream",
     "text": [
      "{0: 'Juan', 1: 'Jorge', 2: 'Maria', 3: 'Sonia', 4: 'Samuel', 5: 'Ana', 6: 'Patricio', 7: 'José', 8: 'Joel', 9: 'Pablo'}\n",
      "{'Juan': 'Petrolera', 'Jorge': 'Computación', 'Maria': 'Mecánica', 'Sonia': 'Eléctrica', 'Samuel': 'Matemáticas', 'Ana': 'Quimica', 'Patricio': 'Computación', 'José': 'Biologia', 'Joel': 'Industrial', 'Pablo': 'Física'}\n"
     ]
    }
   ],
   "source": [
    "nombre = ['Juan', 'Jorge', 'Maria', 'Sonia', 'Samuel', 'Ana', 'Patricio', 'José', 'Joel', 'Pablo']\n",
    "carreras = ['Petrolera', 'Computación', 'Mecánica', 'Eléctrica', 'Matemáticas', 'Quimica', 'Computación', 'Biologia', 'Industrial', 'Física']\n",
    "\n",
    "# Ocupar la función enumerate() para generar un diccionario de personas y la función zip() para generar un diccionario de carreras por medio de nombres de personas.\n",
    "\n",
    "\n",
    "diccionario = dict(enumerate(nombre))\n",
    "print(diccionario)\n",
    "\n",
    "diccionario2 = dict(zip(nombre, carreras))\n",
    "print(diccionario2)\n"
   ]
  },
  {
   "cell_type": "markdown",
   "metadata": {},
   "source": [
    "# Ejercicio 6\n",
    "\n",
    "Generar un diccionario vacio.\n",
    "\n",
    "+ 6.1: Agregarle un item que contenga como llave True y que tenga como valor una lista de las posibles formas en que se pueda escribir si (SI,si,Si,etc).\n",
    "+ 6.2: Agregarle un item que contenga como llave False y que tenga como valor una lista de las posibles formas en que se pueda escribir no (No, no, NO, nop, etc).\n",
    "+ 6.3: Pedirle al usuario una palabra. Usar operadores de pertenencia para checar si se encuentra en las posibles formas de si.\n",
    "+ 6.4: Usar operadores de pertenencia para checar si se encuentra en las posibles formas de no."
   ]
  },
  {
   "cell_type": "code",
   "execution_count": 61,
   "metadata": {},
   "outputs": [
    {
     "name": "stdout",
     "output_type": "stream",
     "text": [
      "No precisamente!\n"
     ]
    }
   ],
   "source": [
    "diccionario = {}\n",
    "\n",
    "diccionario[True] = \"SI\", \"si\", \"Si\", \"sI\"\n",
    "diccionario[False] = \"NO\", \"no\", \"No\", \"nO\"\n",
    "\n",
    "x = input(\"Ingresa una palabra: \")\n",
    "\n",
    "if x in diccionario[True]:\n",
    "    print(\"Efectivamente!\")\n",
    "elif x in diccionario[False]:\n",
    "    print(\"No precisamente!\")"
   ]
  }
 ],
 "metadata": {
  "interpreter": {
   "hash": "2be5faf79681da6f2a61fdfdd5405d65d042280f7fba6178067603e3a2925119"
  },
  "kernelspec": {
   "display_name": "Python 3.10.2 64-bit",
   "language": "python",
   "name": "python3"
  },
  "language_info": {
   "codemirror_mode": {
    "name": "ipython",
    "version": 3
   },
   "file_extension": ".py",
   "mimetype": "text/x-python",
   "name": "python",
   "nbconvert_exporter": "python",
   "pygments_lexer": "ipython3",
   "version": "3.10.2"
  },
  "orig_nbformat": 4
 },
 "nbformat": 4,
 "nbformat_minor": 2
}

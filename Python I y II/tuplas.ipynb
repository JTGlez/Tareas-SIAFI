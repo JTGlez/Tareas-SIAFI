{
 "cells": [
  {
   "cell_type": "markdown",
   "metadata": {},
   "source": [
    "# Ejercicio 1\n",
    "\n",
    "Generar una tupla que contenga las 5 vocales del abecedario."
   ]
  },
  {
   "cell_type": "code",
   "execution_count": 1,
   "metadata": {},
   "outputs": [
    {
     "name": "stdout",
     "output_type": "stream",
     "text": [
      "('a', 'e', 'i', 'o', 'u')\n"
     ]
    }
   ],
   "source": [
    "tupla = ('a', 'e', 'i', 'o', 'u')\n",
    "print(tupla)"
   ]
  },
  {
   "cell_type": "markdown",
   "metadata": {},
   "source": [
    "# Ejercicio 2\n",
    "\n",
    "Generar una tupla que contenga las demás letras (consonantes del abecedario)."
   ]
  },
  {
   "cell_type": "code",
   "execution_count": 2,
   "metadata": {},
   "outputs": [
    {
     "name": "stdout",
     "output_type": "stream",
     "text": [
      "('b', 'c', 'd', 'f', 'g', 'h', 'j', 'k', 'l', 'm', 'n', 'p', 'q', 'r', 's', 't', 'v', 'w', 'x', 'y', 'z')\n"
     ]
    }
   ],
   "source": [
    "# Tupla con las consonantes del abecedario.\n",
    "tupla = ('b', 'c', 'd', 'f', 'g', 'h', 'j', 'k', 'l', 'm', 'n', 'p', 'q', \n",
    "        'r', 's', 't', 'v', 'w', 'x', 'y', 'z')\n",
    "print(tupla)"
   ]
  },
  {
   "cell_type": "markdown",
   "metadata": {},
   "source": [
    "# Ejercicio 3\n",
    "\n",
    "Generar una tupla que contenga las dos tuplas anteriores."
   ]
  },
  {
   "cell_type": "code",
   "execution_count": 3,
   "metadata": {},
   "outputs": [
    {
     "name": "stdout",
     "output_type": "stream",
     "text": [
      "('a', 'e', 'i', 'o', 'u', 'b', 'c', 'd', 'f', 'g', 'h', 'j', 'k', 'l', 'm', 'n', 'p', 'q', 'r', 's', 't', 'v', 'w', 'x', 'y', 'z')\n"
     ]
    }
   ],
   "source": [
    "tupla1 = ('a', 'e', 'i', 'o', 'u')\n",
    "tupla2 = ('b', 'c', 'd', 'f', 'g', 'h', 'j', 'k', 'l', 'm', 'n', 'p', 'q',\n",
    "        'r', 's', 't', 'v', 'w', 'x', 'y', 'z')\n",
    "tupla3 = tupla1 + tupla2\n",
    "print(tupla3)"
   ]
  },
  {
   "cell_type": "markdown",
   "metadata": {},
   "source": [
    "# Ejercicio 4\n",
    "\n",
    "Generar una tupla que contenga las dos tuplas anteriores pero transformadas en lista (la tupla tendrá como items dos listas, la de vocales y la de consonantes)."
   ]
  },
  {
   "cell_type": "code",
   "execution_count": 5,
   "metadata": {},
   "outputs": [
    {
     "name": "stdout",
     "output_type": "stream",
     "text": [
      "(['a', 'e', 'i', 'o', 'u'], ['b', 'c', 'd', 'f', 'g', 'h', 'j', 'k', 'l', 'm', 'n', 'p', 'q', 'r', 's', 't', 'v', 'w', 'x', 'y', 'z'])\n"
     ]
    }
   ],
   "source": [
    "tupla1 = ('a', 'e', 'i', 'o', 'u')\n",
    "tupla2 = ('b', 'c', 'd', 'f', 'g', 'h', 'j', 'k', 'l', 'm', 'n', 'p', 'q',\n",
    "        'r', 's', 't', 'v', 'w', 'x', 'y', 'z')\n",
    "\n",
    "tupla3 = (list(tupla1), list(tupla2))\n",
    "print(tupla3)"
   ]
  },
  {
   "cell_type": "markdown",
   "metadata": {},
   "source": [
    "# Ejercicio 5\n",
    "\n",
    "Desempaquetar esta última tupla y mediante el desempaquetado, sumar los iterables para después generar una lista con todas las letras del abecedario, ordenarla y transformarla en tupla."
   ]
  },
  {
   "cell_type": "code",
   "execution_count": 52,
   "metadata": {},
   "outputs": [
    {
     "name": "stdout",
     "output_type": "stream",
     "text": [
      "(['a', 'e', 'i', 'o', 'u'], ['b', 'c', 'd', 'f', 'g', 'h', 'j', 'k', 'l', 'm', 'n', 'p', 'q', 'r', 's', 't', 'v', 'w', 'x', 'y', 'z'])\n",
      "('a', 'e', 'i', 'o', 'u', 'b', 'c', 'd', 'f', 'g', 'h', 'j', 'k', 'l', 'm', 'n', 'p', 'q', 'r', 's', 't', 'v', 'w', 'x', 'y', 'z')\n",
      "['a', 'e', 'i', 'o', 'u', 'b', 'c', 'd', 'f', 'g', 'h', 'j', 'k', 'l', 'm', 'n', 'p', 'q', 'r', 's', 't', 'v', 'w', 'x', 'y', 'z']\n",
      "['a', 'b', 'c', 'd', 'e', 'f', 'g', 'h', 'i', 'j', 'k', 'l', 'm', 'n', 'o', 'p', 'q', 'r', 's', 't', 'u', 'v', 'w', 'x', 'y', 'z']\n",
      "('a', 'b', 'c', 'd', 'e', 'f', 'g', 'h', 'i', 'j', 'k', 'l', 'm', 'n', 'o', 'p', 'q', 'r', 's', 't', 'u', 'v', 'w', 'x', 'y', 'z')\n"
     ]
    }
   ],
   "source": [
    "tupla1 = ('a', 'e', 'i', 'o', 'u')\n",
    "tupla2 = ('b', 'c', 'd', 'f', 'g', 'h', 'j', 'k', 'l', 'm', 'n', 'p', 'q',\n",
    "        'r', 's', 't', 'v', 'w', 'x', 'y', 'z')\n",
    "tupla3 = (list(tupla1), list(tupla2))\n",
    "print(tupla3)\n",
    "\n",
    "tupla4 = (*tupla3[0], *tupla3[1])\n",
    "print(tupla4)\n",
    "\n",
    "# Desempaquetar con zip() la tupla3 y transformar en lista. \n",
    "lista = list(tupla4)\n",
    "print(lista)\n",
    "\n",
    "lista.sort()\n",
    "print(lista)\n",
    "\n",
    "tupla5 = tuple(lista)\n",
    "print(tupla5)"
   ]
  },
  {
   "cell_type": "markdown",
   "metadata": {},
   "source": [
    "# Ejercicio 6\n",
    "\n",
    "Comparar la tupla generada en el ejercicio 6 con la generada en el ejercicio 3, ¿Qué resulta?\n",
    "\n",
    "R: La diferencia es que la última tupla se encuentra ordenada."
   ]
  },
  {
   "cell_type": "markdown",
   "metadata": {},
   "source": [
    "# Ejercicio 7\n",
    "\n",
    "Dada la tupla:\n",
    "  ([1,\"b\",4,-99,10+1j,\"b\",\"c\",True,\"z\",\"hola\",1,-999,-5,1-1j,False],[],[],[])\n",
    "  + 7.1 Manejar las listas de la tupla de tal manera que en la primera aparezcan puros números, en la segunda puras cadenas, en la tercera números complejos y en la última los booleanos.\n",
    "  \n",
    "  + 7.2 Tratar de ordenar las listas y generar una tupla con la concatenación de cada una de las listas de la tupla."
   ]
  },
  {
   "cell_type": "code",
   "execution_count": 66,
   "metadata": {},
   "outputs": [
    {
     "name": "stdout",
     "output_type": "stream",
     "text": [
      "[1, 'b', 4, -99, (10+1j), 'b', 'c', True, 'z', 'hola', 1, -999, -5, (1-1j), False]\n",
      "[1, 4, -99, 1, -999, -5]\n",
      "['b', 'b', 'c', 'z', 'hola']\n",
      "[(10+1j), (1-1j)]\n",
      "[True, False]\n",
      "[-999, -99, -5, 1, 1, 4, 'b', 'b', 'c', 'hola', 'z', (10+1j), (1-1j), False, True]\n",
      "(-999, -99, -5, 1, 1, 4, 'b', 'b', 'c', 'hola', 'z', (10+1j), (1-1j), False, True)\n"
     ]
    }
   ],
   "source": [
    "tupla = ([1,\"b\",4,-99,10+1j,\"b\",\"c\",True,\"z\",\"hola\",1,-999,-5,1-1j,False],[],[],[])\n",
    "\n",
    "tupla2 = (tupla[0])\n",
    "print(tupla2)\n",
    "\n",
    "lista1 = list(x for x in tupla2 if type(x) == int)\n",
    "print(lista1)\n",
    "\n",
    "lista2 = list(x for x in tupla2 if type(x) == str)\n",
    "print(lista2)\n",
    "\n",
    "lista3 = list(x for x in tupla2 if type(x) == complex)\n",
    "print(lista3)\n",
    "\n",
    "lista4 = list(x for x in tupla2 if type(x) == bool)\n",
    "print(lista4)\n",
    "\n",
    "lista1.sort()\n",
    "lista2.sort()\n",
    "# No se ordenan los complejos.\n",
    "lista4.sort()\n",
    "\n",
    "lista1.extend(lista2)\n",
    "lista1.extend(lista3)\n",
    "lista1.extend(lista4)\n",
    "print(lista1)\n",
    "\n",
    "tupla3 = tuple(lista1)\n",
    "print(tupla3)\n",
    "\n"
   ]
  }
 ],
 "metadata": {
  "interpreter": {
   "hash": "2be5faf79681da6f2a61fdfdd5405d65d042280f7fba6178067603e3a2925119"
  },
  "kernelspec": {
   "display_name": "Python 3.10.2 64-bit",
   "language": "python",
   "name": "python3"
  },
  "language_info": {
   "codemirror_mode": {
    "name": "ipython",
    "version": 3
   },
   "file_extension": ".py",
   "mimetype": "text/x-python",
   "name": "python",
   "nbconvert_exporter": "python",
   "pygments_lexer": "ipython3",
   "version": "3.10.2"
  },
  "orig_nbformat": 4
 },
 "nbformat": 4,
 "nbformat_minor": 2
}

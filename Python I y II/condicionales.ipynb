{
 "cells": [
  {
   "cell_type": "markdown",
   "metadata": {},
   "source": [
    "# Ejercicio 1.\n",
    "Realizar un programa que lea un palabra y determine si es un palíndromo."
   ]
  },
  {
   "cell_type": "code",
   "execution_count": 5,
   "metadata": {},
   "outputs": [
    {
     "name": "stdout",
     "output_type": "stream",
     "text": [
      "Es palíndromo\n"
     ]
    }
   ],
   "source": [
    "palabra = input(\"Introduce una palabra\")\n",
    "\n",
    "if palabra == palabra[::-1]:\n",
    "    print(\"Es palíndromo\")\n",
    "else:\n",
    "    print(\"No es palíndromo\")"
   ]
  },
  {
   "cell_type": "markdown",
   "metadata": {},
   "source": [
    "# Ejercicio 2\n",
    "\n",
    "Un anagrama es una palabra que tiene las mismas letras que otra pero en otro orden, por ejemplo: quieren y enrique, riesgo y sergio, poder y pedro\n",
    "Realizar un programa que determine si dos palabras son anagramas. Deberemos mantener todas las letras en minusculas para poder compararlas y tener cuidado con los acentos."
   ]
  },
  {
   "cell_type": "code",
   "execution_count": 19,
   "metadata": {},
   "outputs": [
    {
     "name": "stdout",
     "output_type": "stream",
     "text": [
      "poder y pedro son anagramas\n"
     ]
    }
   ],
   "source": [
    "palabra1 = input(\"Introduce una palabra\")\n",
    "palabra2 = input(\"Introduce otra palabra\")\n",
    "\n",
    "palabra1 = palabra1.lower()\n",
    "palabra2 = palabra2.lower()\n",
    "\n",
    "palabra1_array = list(palabra1)\n",
    "palabra2_array = list(palabra2)\n",
    "\n",
    "palabra1_array.sort()\n",
    "palabra2_array.sort()\n",
    "\n",
    "palabra1_sorted = \"\".join(palabra1_array)\n",
    "palabra2_sorted = \"\".join(palabra2_array)\n",
    "\n",
    "if palabra1_sorted == palabra2_sorted:\n",
    "    print(palabra1, \"y\", palabra2, \"son anagramas\")\n",
    "else:\n",
    "    print(\"No son anagramas\")"
   ]
  }
 ],
 "metadata": {
  "interpreter": {
   "hash": "2be5faf79681da6f2a61fdfdd5405d65d042280f7fba6178067603e3a2925119"
  },
  "kernelspec": {
   "display_name": "Python 3.10.2 64-bit",
   "language": "python",
   "name": "python3"
  },
  "language_info": {
   "codemirror_mode": {
    "name": "ipython",
    "version": 3
   },
   "file_extension": ".py",
   "mimetype": "text/x-python",
   "name": "python",
   "nbconvert_exporter": "python",
   "pygments_lexer": "ipython3",
   "version": "3.10.2"
  },
  "orig_nbformat": 4
 },
 "nbformat": 4,
 "nbformat_minor": 2
}

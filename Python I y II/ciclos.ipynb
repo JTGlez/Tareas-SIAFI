{
 "cells": [
  {
   "cell_type": "markdown",
   "metadata": {},
   "source": [
    "# Ejercicio 1 \n",
    "\n",
    "Realizar un programa para encontrar los primeros 20 números primos."
   ]
  },
  {
   "cell_type": "code",
   "execution_count": 9,
   "metadata": {},
   "outputs": [
    {
     "name": "stdout",
     "output_type": "stream",
     "text": [
      "Programa que calcula los primeros 20 números primos :D\n",
      "El número 2 es primo.\n",
      "El número 3 es primo.\n",
      "El número 5 es primo.\n",
      "El número 7 es primo.\n",
      "El número 11 es primo.\n",
      "El número 13 es primo.\n",
      "El número 17 es primo.\n",
      "El número 19 es primo.\n",
      "El número 23 es primo.\n",
      "El número 29 es primo.\n",
      "El número 31 es primo.\n",
      "El número 37 es primo.\n",
      "El número 41 es primo.\n",
      "El número 43 es primo.\n",
      "El número 47 es primo.\n",
      "El número 53 es primo.\n",
      "El número 59 es primo.\n",
      "El número 61 es primo.\n",
      "El número 67 es primo.\n",
      "El número 71 es primo.\n"
     ]
    }
   ],
   "source": [
    "print(\"Programa que calcula los primeros 20 números primos :D\")\n",
    "\n",
    "n = 72\n",
    "for numero in range(2, n+1): #Inicia desde el número 2 y finaliza hasta el 20. \n",
    "    divisor = 2 #Variable incrementable que se usará para dividir un número entre sus antecesores y revisar si algún resultado es exacto.\n",
    "    esPrimo = True \n",
    "    \n",
    "    while (esPrimo) and divisor < numero:\n",
    "        if numero % divisor == 0:\n",
    "            esPrimo = False #Si el resultado es exacto, no es primo.\n",
    "        else:\n",
    "            divisor +=1 #Incrementa para evaluar el módulo con cada antecesor.\n",
    "    \n",
    "    if esPrimo:\n",
    "        print(\"El número\", numero, \"es primo.\")"
   ]
  },
  {
   "cell_type": "markdown",
   "metadata": {},
   "source": [
    "# Ejercicio 2\n",
    "\n",
    "Realizar un programa que te regrese el factorial de un número n."
   ]
  },
  {
   "cell_type": "code",
   "execution_count": 17,
   "metadata": {},
   "outputs": [
    {
     "name": "stdout",
     "output_type": "stream",
     "text": [
      "El factorial del número 6 es 720\n"
     ]
    }
   ],
   "source": [
    "def factorial(numero):\n",
    "    if numero < 0:\n",
    "        print (\"El factorial no existe!\")\n",
    "    elif numero == 0:\n",
    "        print(\"El factorial del 0 es 1.\")\n",
    "    else:\n",
    "        factorial = 1\n",
    "        while(numero > 1):\n",
    "            factorial = factorial * numero #Para el 5: 1*5, 5*4, 20*3, 60*2, 120*1\n",
    "            numero -= 1 #Se obtiene el antecesor del número.\n",
    "        return factorial\n",
    "            \n",
    "n = int(input(\"Ingrese un número entero para obtener su factorial.\"))\n",
    "\n",
    "print(\"El factorial del número\", n, \"es\", factorial(n))\n"
   ]
  }
 ],
 "metadata": {
  "interpreter": {
   "hash": "2be5faf79681da6f2a61fdfdd5405d65d042280f7fba6178067603e3a2925119"
  },
  "kernelspec": {
   "display_name": "Python 3.10.2 64-bit",
   "language": "python",
   "name": "python3"
  },
  "language_info": {
   "codemirror_mode": {
    "name": "ipython",
    "version": 3
   },
   "file_extension": ".py",
   "mimetype": "text/x-python",
   "name": "python",
   "nbconvert_exporter": "python",
   "pygments_lexer": "ipython3",
   "version": "3.10.2"
  },
  "orig_nbformat": 4
 },
 "nbformat": 4,
 "nbformat_minor": 2
}

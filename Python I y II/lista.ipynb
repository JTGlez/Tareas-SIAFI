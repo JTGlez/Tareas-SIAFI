{
 "cells": [
  {
   "cell_type": "markdown",
   "metadata": {},
   "source": [
    "# Ejercicio 1\n",
    "\n",
    "Generar una lista vacia."
   ]
  },
  {
   "cell_type": "code",
   "execution_count": null,
   "metadata": {},
   "outputs": [],
   "source": [
    "lista = []"
   ]
  },
  {
   "cell_type": "markdown",
   "metadata": {},
   "source": [
    "# Ejercicio 2\n",
    "\n",
    "Generar una lista mediante una cadena.\n"
   ]
  },
  {
   "cell_type": "code",
   "execution_count": 1,
   "metadata": {},
   "outputs": [
    {
     "name": "stdout",
     "output_type": "stream",
     "text": [
      "['C', 'i', 'r', 'a', 'n', 'o']\n"
     ]
    }
   ],
   "source": [
    "cadena = \"Cirano\"\n",
    "lista = list(cadena)\n",
    "print(lista)"
   ]
  },
  {
   "cell_type": "markdown",
   "metadata": {},
   "source": [
    "# Ejercicio 3\n",
    "\n",
    "Generar una lista con 10 números y mostrar los items con indices pares (incluyendo el cero)."
   ]
  },
  {
   "cell_type": "code",
   "execution_count": 3,
   "metadata": {},
   "outputs": [
    {
     "name": "stdout",
     "output_type": "stream",
     "text": [
      "[0, 2, 4, 6, 8]\n"
     ]
    }
   ],
   "source": [
    "lista = [0, 1, 2, 3, 4, 5, 6, 7, 8, 9]\n",
    "print (lista [0:10:2])"
   ]
  },
  {
   "cell_type": "markdown",
   "metadata": {},
   "source": [
    "# Ejercicio 4\n",
    "\n",
    "Generar dos listas con 10 números cada una y mostrar los items con indices pares (incluyendo el cero)."
   ]
  },
  {
   "cell_type": "code",
   "execution_count": 4,
   "metadata": {},
   "outputs": [
    {
     "name": "stdout",
     "output_type": "stream",
     "text": [
      "[0, 2, 4, 6, 8, 10, 12, 14, 16, 18]\n"
     ]
    }
   ],
   "source": [
    "lista1 = [0, 1, 2, 3, 4, 5, 6, 7, 8, 9]\n",
    "lista2 = [10, 11, 12, 13, 14, 15, 16, 17, 18, 19]\n",
    "print(lista1[0:10:2]+ lista2[0:10:2])"
   ]
  },
  {
   "cell_type": "markdown",
   "metadata": {},
   "source": [
    "# Ejercicio 5\n",
    "\n",
    "Generar una lista con 5 números, imprimirla y  realizar lo siguiente (usar input):\n",
    "  + Generar una copia de la lista original\n",
    "  + Agregarle un número, mostrar la lista\n",
    "  + Agregarle un número al inicio de la lista, mostrar la lista\n",
    "  + Agregarle una cadena en el indice que el usuario desee, mostrar la lista\n",
    "  + Usar el método remove para eliminar el primer número que el usuario insertó, mostrar la lista\n",
    "  + Usar el método pop para eliminar el último item de la lista y mostrarlo, mostrar la lista\n",
    "  + Usar el comando del y la función len() para eliminar la mitad de la lista, mostrar la lista\n",
    "  + A la lista añadirle los elementos de la lista copia que generamos al principio, mostrar la lista\n",
    "  + Pedirle al usuario un número y mostrar cuantas veces aparece este número en la lista y mostrarlo\n",
    "  + Revertir el orden de la lista, mostrar la lista\n",
    "  + Ordenar la lista, mostrarla\n",
    "  + Limpiar o vaciar la lista\n",
    "\n",
    "\n"
   ]
  },
  {
   "cell_type": "code",
   "execution_count": 25,
   "metadata": {},
   "outputs": [
    {
     "name": "stdout",
     "output_type": "stream",
     "text": [
      "[0, 1, 2, 3, 4, 5]\n",
      "[0, 1, 2, 3, 4, 5, 6]\n",
      "[-1, 0, 1, 2, 3, 4, 5, 6]\n",
      "[-1, 0, 1, 2, 3, 4, 5, 'hola', 6]\n",
      "[-1, 0, 1, 2, 3, 4, 5, 'hola']\n",
      "El elemento eliminado es:  hola\n",
      "[-1, 0, 1, 2, 3, 4, 5]\n",
      "[-1, 0, 1, 2]\n",
      "Copia: [0, 1, 2, 3, 4, 5]\n",
      "[-1, 0, 1, 2, 0, 1, 2, 3, 4, 5]\n",
      "El número se encuentra 2 veces en la lista.\n",
      "[5, 4, 3, 2, 1, 0, 2, 1, 0, -1]\n",
      "[-1, 0, 0, 1, 1, 2, 2, 3, 4, 5]\n",
      "[]\n"
     ]
    }
   ],
   "source": [
    "lista = [0, 1, 2, 3, 4, 5]\n",
    "\n",
    "lista2 = lista.copy()\n",
    "print(lista2)\n",
    "\n",
    "x = int(input(\"Ingrese un número: \"))\n",
    "lista.append(x)\n",
    "print(lista)\n",
    "\n",
    "y = int(input(\"Ingrese otro número: \"))\n",
    "lista.insert(0, y)\n",
    "print(lista)\n",
    "\n",
    "cadena = input(\"Ingrese una cadena: \")\n",
    "indice = int(input(\"Ingrese el indice deseado: \"))\n",
    "lista.insert(indice, cadena)\n",
    "print(lista)\n",
    "\n",
    "lista.remove(x)\n",
    "print(lista)\n",
    "\n",
    "eliminado = lista.pop()\n",
    "print(\"El elemento eliminado es: \", eliminado)\n",
    "print(lista)\n",
    "\n",
    "del lista[(len(lista)+1)//2:len(lista)] #Mantiene el central.\n",
    "print(lista)\n",
    "\n",
    "print(\"Copia:\", lista2)\n",
    "lista.extend(lista2)\n",
    "print(lista)\n",
    "\n",
    "z = int(input(\"Ingrese un número para buscar: \"))\n",
    "res = lista.count(z)\n",
    "print(\"El número se encuentra\", res, \"veces en la lista.\")\n",
    "\n",
    "lista.reverse()\n",
    "print(lista)\n",
    "\n",
    "lista.sort()\n",
    "print(lista)\n",
    "\n",
    "lista.clear()\n",
    "print(lista)"
   ]
  },
  {
   "cell_type": "markdown",
   "metadata": {},
   "source": [
    "# Ejercicio 6\n",
    "\n",
    "Generar una matriz de 3x3 que represente un tablero de gato y uno 8x8 que represente un tablero de ajedrez (todos los espacios estaran llenos con un cero 0)."
   ]
  },
  {
   "cell_type": "code",
   "execution_count": 5,
   "metadata": {},
   "outputs": [
    {
     "name": "stdout",
     "output_type": "stream",
     "text": [
      "[[0, 0, 0], [0, 0, 0], [0, 0, 0]]\n",
      "[[0, 0, 0, 0, 0, 0, 0, 0], [0, 0, 0, 0, 0, 0, 0, 0], [0, 0, 0, 0, 0, 0, 0, 0], [0, 0, 0, 0, 0, 0, 0, 0], [0, 0, 0, 0, 0, 0, 0, 0], [0, 0, 0, 0, 0, 0, 0, 0], [0, 0, 0, 0, 0, 0, 0, 0], [0, 0, 0, 0, 0, 0, 0, 0]]\n"
     ]
    }
   ],
   "source": [
    "matriz1 =   [[0, 0, 0],\n",
    "            [0, 0, 0],\n",
    "            [0, 0, 0]]\n",
    " \n",
    "matriz2 =   [[0, 0, 0, 0, 0, 0, 0, 0],\n",
    "            [0, 0, 0, 0, 0, 0, 0, 0],\n",
    "            [0, 0, 0, 0, 0, 0, 0, 0],\n",
    "            [0, 0, 0, 0, 0, 0, 0, 0],\n",
    "            [0, 0, 0, 0, 0, 0, 0, 0],\n",
    "            [0, 0, 0, 0, 0, 0, 0, 0],\n",
    "            [0, 0, 0, 0, 0, 0, 0, 0],\n",
    "            [0, 0, 0, 0, 0, 0, 0, 0]]\n"
   ]
  }
 ],
 "metadata": {
  "interpreter": {
   "hash": "2be5faf79681da6f2a61fdfdd5405d65d042280f7fba6178067603e3a2925119"
  },
  "kernelspec": {
   "display_name": "Python 3.10.2 64-bit",
   "language": "python",
   "name": "python3"
  },
  "language_info": {
   "codemirror_mode": {
    "name": "ipython",
    "version": 3
   },
   "file_extension": ".py",
   "mimetype": "text/x-python",
   "name": "python",
   "nbconvert_exporter": "python",
   "pygments_lexer": "ipython3",
   "version": "3.10.2"
  },
  "orig_nbformat": 4
 },
 "nbformat": 4,
 "nbformat_minor": 2
}

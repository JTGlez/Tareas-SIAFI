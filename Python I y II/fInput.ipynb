{
 "cells": [
  {
   "cell_type": "markdown",
   "metadata": {},
   "source": [
    "# Ejercicio 1\n",
    "\n",
    "Guardar en la variable A un número dado por el usuario."
   ]
  },
  {
   "cell_type": "code",
   "execution_count": 14,
   "metadata": {},
   "outputs": [],
   "source": [
    "a = float(input(\"Escribe un valor: \"))"
   ]
  },
  {
   "cell_type": "markdown",
   "metadata": {},
   "source": [
    "# Ejercicio 2\n",
    "\n",
    "Imprimir el valor de la variable A.\n"
   ]
  },
  {
   "cell_type": "code",
   "execution_count": 16,
   "metadata": {},
   "outputs": [
    {
     "name": "stdout",
     "output_type": "stream",
     "text": [
      "Valor introducido: -1.0\n"
     ]
    }
   ],
   "source": [
    "a = float(input(\"Escribe un valor: \"))\n",
    "print(\"Valor introducido:\", a)\n"
   ]
  },
  {
   "cell_type": "markdown",
   "metadata": {},
   "source": [
    "# Ejercicio 3 \n",
    "\n",
    "Imprimir el tipo de dato de la variable A.\n"
   ]
  },
  {
   "cell_type": "code",
   "execution_count": 17,
   "metadata": {},
   "outputs": [
    {
     "name": "stdout",
     "output_type": "stream",
     "text": [
      "Tipo de dato introducido: <class 'float'>\n"
     ]
    }
   ],
   "source": [
    "a = float(input(\"Escribe un valor: \"))\n",
    "print(\"Tipo de dato introducido:\", type(a))"
   ]
  },
  {
   "cell_type": "markdown",
   "metadata": {},
   "source": [
    "# Ejercicio 4\n",
    "\n",
    "Guardar en la variable B un nombre e imprimirlo."
   ]
  },
  {
   "cell_type": "code",
   "execution_count": 18,
   "metadata": {},
   "outputs": [
    {
     "name": "stdout",
     "output_type": "stream",
     "text": [
      "Jorge\n"
     ]
    }
   ],
   "source": [
    "b = input(\"Escribe un nombre: \")\n",
    "print(b)"
   ]
  },
  {
   "cell_type": "markdown",
   "metadata": {},
   "source": [
    "# Ejercicio 5\n",
    "\n",
    "Pedir dos palabras, guardarlas en la variable nombre1 y nombre2 respectivamente, e imprimirlos separados por comas."
   ]
  },
  {
   "cell_type": "code",
   "execution_count": 21,
   "metadata": {},
   "outputs": [
    {
     "name": "stdout",
     "output_type": "stream",
     "text": [
      "Jorge, Juan\n"
     ]
    }
   ],
   "source": [
    "nombre1 = input(\"Escribe un nombre: \")\n",
    "nombre2 = input(\"Escribe otro nombre: \")\n",
    "\n",
    "print(nombre1 +\", \"+nombre2)"
   ]
  },
  {
   "cell_type": "markdown",
   "metadata": {},
   "source": [
    "# Ejercicio 6\n",
    "\n",
    "Pedir un número y guardarlo en la variable x, después transformar en un número flotante esta variable e imprimir su tipo de dato con la función type()."
   ]
  },
  {
   "cell_type": "code",
   "execution_count": 25,
   "metadata": {},
   "outputs": [
    {
     "name": "stdout",
     "output_type": "stream",
     "text": [
      "Valor introducido: 5\n",
      "Valor transformado: 5.0\n",
      "<class 'float'>\n"
     ]
    }
   ],
   "source": [
    "x = input(\"Escribe un número: \")\n",
    "print(\"Valor introducido:\", x)\n",
    "x = float(x)\n",
    "print(\"Valor transformado:\", x)\n",
    "print(type(x))"
   ]
  },
  {
   "cell_type": "markdown",
   "metadata": {},
   "source": [
    "# Ejercicio 7\n",
    "\n",
    "Pedir un número y guardarlo en la variable x ya transformado en un número flotante."
   ]
  },
  {
   "cell_type": "code",
   "execution_count": 26,
   "metadata": {},
   "outputs": [
    {
     "name": "stdout",
     "output_type": "stream",
     "text": [
      "Valor introducido: 3.0\n"
     ]
    }
   ],
   "source": [
    "x = float(input(\"Escribe un número: \"))\n",
    "print(\"Valor introducido:\", x)"
   ]
  }
 ],
 "metadata": {
  "interpreter": {
   "hash": "f93175da69b3f10f997f04267fd1a84e4114b0d67bf68a284cfc44f2ff9048ab"
  },
  "kernelspec": {
   "display_name": "Python 3.10.2 64-bit (windows store)",
   "language": "python",
   "name": "python3"
  },
  "language_info": {
   "codemirror_mode": {
    "name": "ipython",
    "version": 3
   },
   "file_extension": ".py",
   "mimetype": "text/x-python",
   "name": "python",
   "nbconvert_exporter": "python",
   "pygments_lexer": "ipython3",
   "version": "3.10.2"
  },
  "orig_nbformat": 4
 },
 "nbformat": 4,
 "nbformat_minor": 2
}
